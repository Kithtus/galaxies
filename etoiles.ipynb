{
 "cells": [
  {
   "cell_type": "code",
   "execution_count": 187,
   "id": "2dba384d",
   "metadata": {},
   "outputs": [],
   "source": [
    "import pandas as pd\n",
    "from math import *\n",
    "import numpy as np\n",
    "from sklearn.impute import SimpleImputer\n",
    "from sklearn.preprocessing import LabelEncoder\n",
    "from sklearn.model_selection import train_test_split\n",
    "from sklearn.neighbors import KNeighborsClassifier\n",
    "from sklearn.model_selection import cross_val_score"
   ]
  },
  {
   "cell_type": "code",
   "execution_count": 2,
   "id": "5b22089d",
   "metadata": {},
   "outputs": [],
   "source": [
    "df1=pd.read_csv(\"Star3642_balanced.csv\")"
   ]
  },
  {
   "cell_type": "code",
   "execution_count": 200,
   "id": "06d8ce30",
   "metadata": {},
   "outputs": [
    {
     "name": "stderr",
     "output_type": "stream",
     "text": [
      "<ipython-input-200-92668c0f19bb>:4: SettingWithCopyWarning: \n",
      "A value is trying to be set on a copy of a slice from a DataFrame.\n",
      "Try using .loc[row_indexer,col_indexer] = value instead\n",
      "\n",
      "See the caveats in the documentation: https://pandas.pydata.org/pandas-docs/stable/user_guide/indexing.html#returning-a-view-versus-a-copy\n",
      "  X[\"SpType\"]=encoder.fit_transform(X[\"SpType\"])\n"
     ]
    }
   ],
   "source": [
    "df1[\"SpType\"]=encoder.fit_transform(df1[\"SpType\"])\n",
    "Y=df1[\"TargetClass\"]\n",
    "X=df1[[\"Vmag\",\"Plx\",\"e_Plx\",\"B-V\",\"SpType\"]]\n",
    "X[\"SpType\"]=encoder.fit_transform(X[\"SpType\"])"
   ]
  },
  {
   "cell_type": "code",
   "execution_count": 201,
   "id": "7ad5f2b4",
   "metadata": {},
   "outputs": [],
   "source": [
    "X_train,X_test,Y_train,Y_test=train_test_split(X,Y,test_size=0.2)"
   ]
  },
  {
   "cell_type": "code",
   "execution_count": 202,
   "id": "9bccf88e",
   "metadata": {
    "scrolled": true
   },
   "outputs": [
    {
     "data": {
      "text/plain": [
       "0.8943758573388203"
      ]
     },
     "execution_count": 202,
     "metadata": {},
     "output_type": "execute_result"
    }
   ],
   "source": [
    "model=KNeighborsClassifier(n_neighbors=20)\n",
    "model.fit(X_train,Y_train)\n",
    "model.score(X_test,Y_test)"
   ]
  },
  {
   "cell_type": "code",
   "execution_count": 204,
   "id": "8ba31148",
   "metadata": {},
   "outputs": [
    {
     "data": {
      "text/plain": [
       "array([0.87307033, 0.89708405, 0.89193825, 0.90378007, 0.91752577])"
      ]
     },
     "execution_count": 204,
     "metadata": {},
     "output_type": "execute_result"
    }
   ],
   "source": [
    "cross_val_score(KNeighborsClassifier(10),X_train,Y_train,cv=5)"
   ]
  },
  {
   "cell_type": "code",
   "execution_count": 195,
   "id": "ee341b25",
   "metadata": {
    "scrolled": true
   },
   "outputs": [
    {
     "name": "stderr",
     "output_type": "stream",
     "text": [
      "C:\\ProgramData\\Anaconda3\\lib\\site-packages\\pandas\\core\\arraylike.py:358: RuntimeWarning: divide by zero encountered in log10\n",
      "  result = getattr(ufunc, method)(*inputs, **kwargs)\n",
      "C:\\ProgramData\\Anaconda3\\lib\\site-packages\\pandas\\core\\arraylike.py:358: RuntimeWarning: invalid value encountered in log10\n",
      "  result = getattr(ufunc, method)(*inputs, **kwargs)\n"
     ]
    }
   ],
   "source": [
    "df2=pd.read_csv(\"Star9999_raw.csv\")\n",
    "df2=df2.drop(\"Unnamed: 0\",axis=1)\n",
    "df2=df2.dropna(axis=0)\n",
    "df2.rename(columns={'B-V \\t':\"B-V\"},inplace=True)\n",
    "indexNames = df2[ df2['Plx'] == a ].index\n",
    "df2.drop(indexNames , inplace=True)\n",
    "indexNames = df2[ df2['e_Plx'] == a ].index\n",
    "df2.drop(indexNames , inplace=True)\n",
    "indexNames = df2[ df2['B-V'] == b ].index\n",
    "df2.drop(indexNames , inplace=True)\n",
    "df2[\"Plx\"]=df2[\"Plx\"].replace(\" \",\"\")\n",
    "df2[\"e_Plx\"]=df2[\"e_Plx\"].replace(\" \",\"\")\n",
    "df2[\"B-V\"]=df2[\"B-V\"].replace(\" \",\"\")\n",
    "df3=df2[[\"Vmag\",\"Plx\",\"e_Plx\",\"B-V\"]].astype(float)\n",
    "df2[[\"Vmag\",\"Plx\",\"e_Plx\",\"B-V\"]]=df3[[\"Vmag\",\"Plx\",\"e_Plx\",\"B-V\"]]\n",
    "df2[\"Amag\"]=df2[\"Vmag\"]+5*(np.log10(df2[\"Plx\"])+1)\n",
    "df2[\"SpType\"]=encoder.fit_transform(df2[\"SpType\"])\n",
    "df2=df2.dropna(axis=1)"
   ]
  },
  {
   "cell_type": "code",
   "execution_count": 159,
   "id": "4a5e3b32",
   "metadata": {},
   "outputs": [],
   "source": [
    "encoder=LabelEncoder()\n",
    "SpType=df2[\"SpType\"].unique()"
   ]
  },
  {
   "cell_type": "code",
   "execution_count": 199,
   "id": "c7d7b9cb",
   "metadata": {
    "scrolled": true
   },
   "outputs": [
    {
     "data": {
      "text/plain": [
       "(      Vmag    Plx  e_Plx    B-V  SpType\n",
       " 0     9.10   3.54   1.39  0.482     366\n",
       " 1     9.27  21.90   3.10  0.999     727\n",
       " 2     6.61   2.81   0.63 -0.019     253\n",
       " 3     8.06   7.75   0.97  0.370     310\n",
       " 4     8.55   2.87   1.11  0.902     575\n",
       " ...    ...    ...    ...    ...     ...\n",
       " 9994  8.45  -0.93   1.13  1.404     738\n",
       " 9995  7.84   4.26   1.00  1.140     674\n",
       " 9996  9.38   3.61   1.36  0.507     445\n",
       " 9997  7.64   4.75   0.97  0.075      39\n",
       " 9998  9.00  10.61   1.45  0.566     465\n",
       " \n",
       " [9679 rows x 5 columns],\n",
       "       Vmag    Plx  e_Plx    B-V\n",
       " 553   8.96   5.89   1.34  0.503\n",
       " 1168  9.42   4.32   1.12  0.623\n",
       " 188   8.47   6.57   1.10  0.337\n",
       " 584   7.39   2.05   0.68 -0.013\n",
       " 856   9.27  11.94   1.24  0.576\n",
       " ...    ...    ...    ...    ...\n",
       " 3450  6.22   8.89   0.84  1.114\n",
       " 460   8.67   2.20   1.11  1.144\n",
       " 2409  8.49  62.48   0.82  1.076\n",
       " 1370  4.24  10.43   0.50  1.213\n",
       " 1943  8.98   3.50   1.31  0.980\n",
       " \n",
       " [2913 rows x 4 columns])"
      ]
     },
     "execution_count": 199,
     "metadata": {},
     "output_type": "execute_result"
    }
   ],
   "source": [
    "df2,X_train"
   ]
  },
  {
   "cell_type": "code",
   "execution_count": 205,
   "id": "a7669ca3",
   "metadata": {},
   "outputs": [],
   "source": [
    "df2[\"TargetClass\"]=model.predict(df2)"
   ]
  },
  {
   "cell_type": "code",
   "execution_count": 206,
   "id": "54d0e290",
   "metadata": {},
   "outputs": [],
   "source": [
    "df2.to_csv(\"Star9999_raw.csv\")"
   ]
  },
  {
   "cell_type": "code",
   "execution_count": null,
   "id": "97e2f621",
   "metadata": {},
   "outputs": [],
   "source": []
  },
  {
   "cell_type": "code",
   "execution_count": null,
   "id": "cbc04f76",
   "metadata": {},
   "outputs": [],
   "source": []
  }
 ],
 "metadata": {
  "kernelspec": {
   "display_name": "Python 3",
   "language": "python",
   "name": "python3"
  },
  "language_info": {
   "codemirror_mode": {
    "name": "ipython",
    "version": 3
   },
   "file_extension": ".py",
   "mimetype": "text/x-python",
   "name": "python",
   "nbconvert_exporter": "python",
   "pygments_lexer": "ipython3",
   "version": "3.8.8"
  }
 },
 "nbformat": 4,
 "nbformat_minor": 5
}
