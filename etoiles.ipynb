{
 "cells": [
  {
   "cell_type": "code",
   "execution_count": 52,
   "id": "2dba384d",
   "metadata": {},
   "outputs": [],
   "source": [
    "import pandas as pd\n",
    "from math import *\n",
    "import numpy as np\n",
    "import matplotlib.pyplot as plt\n",
    "from sklearn.impute import SimpleImputer\n",
    "from sklearn.preprocessing import LabelEncoder\n",
    "from sklearn.model_selection import train_test_split\n",
    "from sklearn.neighbors import KNeighborsClassifier\n",
    "from sklearn.model_selection import cross_val_score\n",
    "from sklearn.model_selection import validation_curve\n",
    "from sklearn.model_selection import learning_curve"
   ]
  },
  {
   "cell_type": "code",
   "execution_count": 4,
   "id": "5b22089d",
   "metadata": {},
   "outputs": [],
   "source": [
    "df1=pd.read_csv(\"Star3642_balanced.csv\") #data d'entrainements"
   ]
  },
  {
   "cell_type": "code",
   "execution_count": 5,
   "id": "06d8ce30",
   "metadata": {},
   "outputs": [],
   "source": [
    "encoder=LabelEncoder()\n",
    "df1[\"SpType\"]=encoder.fit_transform(df1[\"SpType\"]) #on transforme SpType en chiffres\n",
    "Y=df1[\"TargetClass\"] \n",
    "X=df1[[\"Vmag\",\"Plx\",\"e_Plx\",\"B-V\",\"SpType\"]]\n",
    "#X[\"SpType\"]=encoder.fit_transform(X[\"SpType\"])"
   ]
  },
  {
   "cell_type": "code",
   "execution_count": 104,
   "id": "6d0ecd87",
   "metadata": {},
   "outputs": [
    {
     "data": {
      "text/html": [
       "<div>\n",
       "<style scoped>\n",
       "    .dataframe tbody tr th:only-of-type {\n",
       "        vertical-align: middle;\n",
       "    }\n",
       "\n",
       "    .dataframe tbody tr th {\n",
       "        vertical-align: top;\n",
       "    }\n",
       "\n",
       "    .dataframe thead th {\n",
       "        text-align: right;\n",
       "    }\n",
       "</style>\n",
       "<table border=\"1\" class=\"dataframe\">\n",
       "  <thead>\n",
       "    <tr style=\"text-align: right;\">\n",
       "      <th></th>\n",
       "      <th>Vmag</th>\n",
       "      <th>Plx</th>\n",
       "      <th>e_Plx</th>\n",
       "      <th>B-V</th>\n",
       "      <th>SpType</th>\n",
       "      <th>Amag</th>\n",
       "      <th>TargetClass</th>\n",
       "    </tr>\n",
       "  </thead>\n",
       "  <tbody>\n",
       "    <tr>\n",
       "      <th>0</th>\n",
       "      <td>5.99</td>\n",
       "      <td>13.73</td>\n",
       "      <td>0.58</td>\n",
       "      <td>1.318</td>\n",
       "      <td>522</td>\n",
       "      <td>16.678352</td>\n",
       "      <td>0</td>\n",
       "    </tr>\n",
       "    <tr>\n",
       "      <th>1</th>\n",
       "      <td>8.70</td>\n",
       "      <td>2.31</td>\n",
       "      <td>1.29</td>\n",
       "      <td>-0.045</td>\n",
       "      <td>99</td>\n",
       "      <td>15.518060</td>\n",
       "      <td>0</td>\n",
       "    </tr>\n",
       "    <tr>\n",
       "      <th>2</th>\n",
       "      <td>5.77</td>\n",
       "      <td>5.50</td>\n",
       "      <td>1.03</td>\n",
       "      <td>0.855</td>\n",
       "      <td>337</td>\n",
       "      <td>14.471813</td>\n",
       "      <td>0</td>\n",
       "    </tr>\n",
       "    <tr>\n",
       "      <th>3</th>\n",
       "      <td>6.72</td>\n",
       "      <td>5.26</td>\n",
       "      <td>0.74</td>\n",
       "      <td>-0.015</td>\n",
       "      <td>150</td>\n",
       "      <td>15.324928</td>\n",
       "      <td>1</td>\n",
       "    </tr>\n",
       "    <tr>\n",
       "      <th>4</th>\n",
       "      <td>8.76</td>\n",
       "      <td>13.44</td>\n",
       "      <td>1.16</td>\n",
       "      <td>0.584</td>\n",
       "      <td>293</td>\n",
       "      <td>19.401997</td>\n",
       "      <td>1</td>\n",
       "    </tr>\n",
       "    <tr>\n",
       "      <th>...</th>\n",
       "      <td>...</td>\n",
       "      <td>...</td>\n",
       "      <td>...</td>\n",
       "      <td>...</td>\n",
       "      <td>...</td>\n",
       "      <td>...</td>\n",
       "      <td>...</td>\n",
       "    </tr>\n",
       "    <tr>\n",
       "      <th>3637</th>\n",
       "      <td>7.29</td>\n",
       "      <td>3.26</td>\n",
       "      <td>0.95</td>\n",
       "      <td>1.786</td>\n",
       "      <td>515</td>\n",
       "      <td>14.856089</td>\n",
       "      <td>0</td>\n",
       "    </tr>\n",
       "    <tr>\n",
       "      <th>3638</th>\n",
       "      <td>8.29</td>\n",
       "      <td>6.38</td>\n",
       "      <td>1.00</td>\n",
       "      <td>0.408</td>\n",
       "      <td>208</td>\n",
       "      <td>17.314104</td>\n",
       "      <td>1</td>\n",
       "    </tr>\n",
       "    <tr>\n",
       "      <th>3639</th>\n",
       "      <td>6.11</td>\n",
       "      <td>2.42</td>\n",
       "      <td>0.79</td>\n",
       "      <td>1.664</td>\n",
       "      <td>539</td>\n",
       "      <td>13.029078</td>\n",
       "      <td>0</td>\n",
       "    </tr>\n",
       "    <tr>\n",
       "      <th>3640</th>\n",
       "      <td>7.94</td>\n",
       "      <td>4.94</td>\n",
       "      <td>2.90</td>\n",
       "      <td>0.210</td>\n",
       "      <td>53</td>\n",
       "      <td>16.408636</td>\n",
       "      <td>1</td>\n",
       "    </tr>\n",
       "    <tr>\n",
       "      <th>3641</th>\n",
       "      <td>8.81</td>\n",
       "      <td>1.87</td>\n",
       "      <td>1.23</td>\n",
       "      <td>1.176</td>\n",
       "      <td>454</td>\n",
       "      <td>15.169209</td>\n",
       "      <td>0</td>\n",
       "    </tr>\n",
       "  </tbody>\n",
       "</table>\n",
       "<p>3642 rows × 7 columns</p>\n",
       "</div>"
      ],
      "text/plain": [
       "      Vmag    Plx  e_Plx    B-V  SpType       Amag  TargetClass\n",
       "0     5.99  13.73   0.58  1.318     522  16.678352            0\n",
       "1     8.70   2.31   1.29 -0.045      99  15.518060            0\n",
       "2     5.77   5.50   1.03  0.855     337  14.471813            0\n",
       "3     6.72   5.26   0.74 -0.015     150  15.324928            1\n",
       "4     8.76  13.44   1.16  0.584     293  19.401997            1\n",
       "...    ...    ...    ...    ...     ...        ...          ...\n",
       "3637  7.29   3.26   0.95  1.786     515  14.856089            0\n",
       "3638  8.29   6.38   1.00  0.408     208  17.314104            1\n",
       "3639  6.11   2.42   0.79  1.664     539  13.029078            0\n",
       "3640  7.94   4.94   2.90  0.210      53  16.408636            1\n",
       "3641  8.81   1.87   1.23  1.176     454  15.169209            0\n",
       "\n",
       "[3642 rows x 7 columns]"
      ]
     },
     "execution_count": 104,
     "metadata": {},
     "output_type": "execute_result"
    }
   ],
   "source": [
    "df1"
   ]
  },
  {
   "cell_type": "code",
   "execution_count": 28,
   "id": "7ad5f2b4",
   "metadata": {},
   "outputs": [],
   "source": [
    "X_train,X_test,Y_train,Y_test=train_test_split(X,Y,test_size=0.2) #On crée notre datasets"
   ]
  },
  {
   "cell_type": "code",
   "execution_count": 53,
   "id": "9bccf88e",
   "metadata": {
    "scrolled": true
   },
   "outputs": [
    {
     "data": {
      "text/plain": [
       "0.897119341563786"
      ]
     },
     "execution_count": 53,
     "metadata": {},
     "output_type": "execute_result"
    }
   ],
   "source": [
    "#On fait un test\n",
    "model=KNeighborsClassifier(n_neighbors=20) #on entraine un modèle de KNeighbirsClassifier avec 20 voisins\n",
    "model.fit(X_train,Y_train)\n",
    "model.score(X_test,Y_test) #On regarde son score"
   ]
  },
  {
   "cell_type": "code",
   "execution_count": 31,
   "id": "5c96ed3b",
   "metadata": {},
   "outputs": [
    {
     "name": "stderr",
     "output_type": "stream",
     "text": [
      "C:\\ProgramData\\Anaconda3\\lib\\site-packages\\sklearn\\utils\\validation.py:70: FutureWarning: Pass param_name=n_neighbors, param_range=[ 1  2  3  4  5  6  7  8  9 10 11 12 13 14 15 16 17 18 19 20 21 22 23 24\n",
      " 25 26 27 28 29 30 31 32 33 34 35 36 37 38 39 40 41 42 43 44 45 46 47 48\n",
      " 49] as keyword args. From version 1.0 (renaming of 0.25) passing these as positional arguments will result in an error\n",
      "  warnings.warn(f\"Pass {args_msg} as keyword args. From version \"\n"
     ]
    }
   ],
   "source": [
    "#On détermine quel nombre de voisins est optimal\n",
    "model1=KNeighborsClassifier()\n",
    "k=np.arange(1,50)\n",
    "train_score, val_score=validation_curve(model1,X_train,Y_train,'n_neighbors',k,cv=5)"
   ]
  },
  {
   "cell_type": "code",
   "execution_count": 40,
   "id": "2d5c4a0b",
   "metadata": {},
   "outputs": [
    {
     "data": {
      "text/plain": [
       "<matplotlib.legend.Legend at 0x1b2b6ab9190>"
      ]
     },
     "execution_count": 40,
     "metadata": {},
     "output_type": "execute_result"
    },
    {
     "data": {
      "image/png": "[encoded data removed]",
      "text/plain": [
       "<Figure size 432x288 with 1 Axes>"
      ]
     },
     "metadata": {
      "needs_background": "light"
     },
     "output_type": "display_data"
    }
   ],
   "source": [
    "plt.plot(k,val_score.mean(axis=1),label=\"validation\")\n",
    "plt.plot(k,train_score.mean(axis=1),label=\"training\")\n",
    "plt.legend()"
   ]
  },
  {
   "cell_type": "markdown",
   "id": "b0099cd9",
   "metadata": {},
   "source": [
    "On prend donc n_neightbors=10 pour ne pas overfitter ni unerfitter"
   ]
  },
  {
   "cell_type": "code",
   "execution_count": 15,
   "id": "8ba31148",
   "metadata": {},
   "outputs": [
    {
     "name": "stdout",
     "output_type": "stream",
     "text": [
      "le score du modèle est 0.9062845926685646\n"
     ]
    }
   ],
   "source": [
    "print(\"le score du modèle est {}\".format(str(np.mean(cross_val_score(KNeighborsClassifier(10),X_train,Y_train,cv=5)))))"
   ]
  },
  {
   "cell_type": "code",
   "execution_count": 76,
   "id": "ba25969f",
   "metadata": {
    "scrolled": true
   },
   "outputs": [
    {
     "data": {
      "text/plain": [
       "<matplotlib.legend.Legend at 0x1b2b97cae50>"
      ]
     },
     "execution_count": 76,
     "metadata": {},
     "output_type": "execute_result"
    },
    {
     "data": {
      "image/png": "[encoded data removed]",
      "text/plain": [
       "<Figure size 432x288 with 1 Axes>"
      ]
     },
     "metadata": {
      "needs_background": "light"
     },
     "output_type": "display_data"
    }
   ],
   "source": [
    "N,train_score,val_score=learning_curve(model,X,Y,train_sizes=np.linspace(0.1,1,10),cv=20)\n",
    "plt.plot(N/len(X),train_score.mean(axis=1),label=\"training\")\n",
    "plt.plot(N/len(X),val_score.mean(axis=1),label=\"validation\")\n",
    "plt.legend()"
   ]
  },
  {
   "cell_type": "markdown",
   "id": "5a1b7b9a",
   "metadata": {},
   "source": [
    "On voit qu'on pourrait avoir de meilleurs résultats si nous avions plus de données d'entrainements, on va donc prendre un test size égal à 0.1 pour ne pas overfitter sur le trainset"
   ]
  },
  {
   "cell_type": "code",
   "execution_count": 78,
   "id": "74860048",
   "metadata": {},
   "outputs": [
    {
     "data": {
      "text/plain": [
       "0.915068493150685"
      ]
     },
     "execution_count": 78,
     "metadata": {},
     "output_type": "execute_result"
    }
   ],
   "source": [
    "model=KNeighborsClassifier(n_neighbors=10) #on entraine un modèle de KNeighbirsClassifier avec 20 voisins\n",
    "X_train,X_test,Y_train,Y_test=train_test_split(X,Y,test_size=0.1)\n",
    "model.fit(X_train,Y_train)\n",
    "model.score(X_test,Y_test)"
   ]
  },
  {
   "cell_type": "code",
   "execution_count": 117,
   "id": "ee341b25",
   "metadata": {
    "scrolled": true
   },
   "outputs": [
    {
     "name": "stderr",
     "output_type": "stream",
     "text": [
      "C:\\ProgramData\\Anaconda3\\lib\\site-packages\\pandas\\core\\arraylike.py:358: RuntimeWarning: divide by zero encountered in log10\n",
      "  result = getattr(ufunc, method)(*inputs, **kwargs)\n",
      "C:\\ProgramData\\Anaconda3\\lib\\site-packages\\pandas\\core\\arraylike.py:358: RuntimeWarning: invalid value encountered in log10\n",
      "  result = getattr(ufunc, method)(*inputs, **kwargs)\n"
     ]
    }
   ],
   "source": [
    "df2=pd.read_csv(\"Star9999_raw.csv\") #Data que l'on veut traiter\n",
    "df2=df2.drop(\"Unnamed: 0\",axis=1) #On enlève la colonne d'index\n",
    "\n",
    "#On enlève toutes les lignes qui ont des données manquantes\n",
    "df2=df2.dropna(axis=0)\n",
    "\n",
    "#On change les types des variables en float\n",
    "df3=df2[[\"Vmag\",\"Plx\",\"e_Plx\",\"B-V\"]].astype(float)\n",
    "df2[[\"Vmag\",\"Plx\",\"e_Plx\",\"B-V\"]]=df3[[\"Vmag\",\"Plx\",\"e_Plx\",\"B-V\"]]\n",
    "#On crée une nouvelle variable qui permet la détection\n",
    "df2[\"Amag\"]=df2[\"Vmag\"]+5*(np.log10(df2[\"Plx\"])+1)\n",
    "df2=df2.dropna(axis=1)\n",
    "\n",
    "\n"
   ]
  },
  {
   "cell_type": "code",
   "execution_count": 118,
   "id": "1296f8ba",
   "metadata": {},
   "outputs": [
    {
     "data": {
      "text/plain": [
       "9679"
      ]
     },
     "execution_count": 118,
     "metadata": {},
     "output_type": "execute_result"
    }
   ],
   "source": []
  },
  {
   "cell_type": "code",
   "execution_count": 114,
   "id": "4a5e3b32",
   "metadata": {
    "scrolled": true
   },
   "outputs": [],
   "source": [
    "df2[\"TargetClass\"]=model.predict(df2)"
   ]
  },
  {
   "cell_type": "code",
   "execution_count": 109,
   "id": "c7d7b9cb",
   "metadata": {
    "scrolled": true
   },
   "outputs": [
    {
     "data": {
      "text/plain": [
       "0       0\n",
       "1       0\n",
       "2       1\n",
       "3       1\n",
       "4       0\n",
       "       ..\n",
       "9674    0\n",
       "9675    0\n",
       "9676    1\n",
       "9677    1\n",
       "9678    0\n",
       "Name: TargetClass, Length: 9679, dtype: int64"
      ]
     },
     "execution_count": 109,
     "metadata": {},
     "output_type": "execute_result"
    }
   ],
   "source": [
    "df2[\"TargetClass\"]"
   ]
  },
  {
   "cell_type": "code",
   "execution_count": 110,
   "id": "54d0e290",
   "metadata": {},
   "outputs": [],
   "source": [
    "df2.to_csv(\"Starfinie_raw.csv\")"
   ]
  },
  {
   "cell_type": "code",
   "execution_count": null,
   "id": "97e2f621",
   "metadata": {},
   "outputs": [],
   "source": []
  },
  {
   "cell_type": "code",
   "execution_count": null,
   "id": "cbc04f76",
   "metadata": {},
   "outputs": [],
   "source": []
  }
 ],
 "metadata": {
  "kernelspec": {
   "display_name": "Python 3",
   "language": "python",
   "name": "python3"
  },
  "language_info": {
   "codemirror_mode": {
    "name": "ipython",
    "version": 3
   },
   "file_extension": ".py",
   "mimetype": "text/x-python",
   "name": "python",
   "nbconvert_exporter": "python",
   "pygments_lexer": "ipython3",
   "version": "3.8.8"
  }
 },
 "nbformat": 4,
 "nbformat_minor": 5
}
