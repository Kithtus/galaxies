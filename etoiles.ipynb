{
 "cells": [
  {
   "cell_type": "code",
   "execution_count": 27,
   "id": "2dba384d",
   "metadata": {},
   "outputs": [],
   "source": [
    "import pandas as pd\n",
    "from math import *\n",
    "import numpy as np\n",
    "import matplotlib.pyplot as plt\n",
    "from sklearn.impute import SimpleImputer\n",
    "from sklearn.preprocessing import LabelEncoder\n",
    "from sklearn.model_selection import train_test_split\n",
    "from sklearn.neighbors import KNeighborsClassifier\n",
    "from sklearn.model_selection import cross_val_score\n",
    "from sklearn.model_selection import validation_curve\n",
    "from sklearn.model_selection import learning_curve\n",
    "from sklearn import svm\n",
    "from sklearn.ensemble import RandomForestClassifier\n",
    "from sklearn.linear_model import LogisticRegression\n",
    "from sklearn.impute import SimpleImputer"
   ]
  },
  {
   "cell_type": "markdown",
   "id": "18c87ac3",
   "metadata": {},
   "source": [
    "# Traitement du dataset d'entrainement et du dataset de travail"
   ]
  },
  {
   "cell_type": "code",
   "execution_count": 2,
   "id": "5b22089d",
   "metadata": {},
   "outputs": [],
   "source": [
    "df1=pd.read_csv(\"Star3642_balanced.csv\") #data d'entrainements"
   ]
  },
  {
   "cell_type": "code",
   "execution_count": 149,
   "id": "06d8ce30",
   "metadata": {},
   "outputs": [],
   "source": [
    "encoder=LabelEncoder()\n",
    "df1[\"SpType\"]=encoder.fit_transform(df1[\"SpType\"]) #on transforme SpType en chiffres\n",
    "Y=df1[\"TargetClass\"] \n",
    "X=df1[[\"Vmag\",\"Plx\",\"e_Plx\",\"B-V\",\"SpType\"]]\n",
    "#X[\"SpType\"]=encoder.fit_transform(X[\"SpType\"])"
   ]
  },
  {
   "cell_type": "code",
   "execution_count": 9,
   "id": "6d0ecd87",
   "metadata": {},
   "outputs": [
    {
     "data": {
      "text/html": [
       "<div>\n",
       "<style scoped>\n",
       "    .dataframe tbody tr th:only-of-type {\n",
       "        vertical-align: middle;\n",
       "    }\n",
       "\n",
       "    .dataframe tbody tr th {\n",
       "        vertical-align: top;\n",
       "    }\n",
       "\n",
       "    .dataframe thead th {\n",
       "        text-align: right;\n",
       "    }\n",
       "</style>\n",
       "<table border=\"1\" class=\"dataframe\">\n",
       "  <thead>\n",
       "    <tr style=\"text-align: right;\">\n",
       "      <th></th>\n",
       "      <th>Vmag</th>\n",
       "      <th>Plx</th>\n",
       "      <th>e_Plx</th>\n",
       "      <th>B-V</th>\n",
       "      <th>SpType</th>\n",
       "      <th>Amag</th>\n",
       "    </tr>\n",
       "  </thead>\n",
       "  <tbody>\n",
       "    <tr>\n",
       "      <th>0</th>\n",
       "      <td>5.99</td>\n",
       "      <td>13.73</td>\n",
       "      <td>0.58</td>\n",
       "      <td>1.318</td>\n",
       "      <td>522</td>\n",
       "      <td>16.678352</td>\n",
       "    </tr>\n",
       "    <tr>\n",
       "      <th>1</th>\n",
       "      <td>8.70</td>\n",
       "      <td>2.31</td>\n",
       "      <td>1.29</td>\n",
       "      <td>-0.045</td>\n",
       "      <td>99</td>\n",
       "      <td>15.518060</td>\n",
       "    </tr>\n",
       "    <tr>\n",
       "      <th>2</th>\n",
       "      <td>5.77</td>\n",
       "      <td>5.50</td>\n",
       "      <td>1.03</td>\n",
       "      <td>0.855</td>\n",
       "      <td>337</td>\n",
       "      <td>14.471813</td>\n",
       "    </tr>\n",
       "    <tr>\n",
       "      <th>3</th>\n",
       "      <td>6.72</td>\n",
       "      <td>5.26</td>\n",
       "      <td>0.74</td>\n",
       "      <td>-0.015</td>\n",
       "      <td>150</td>\n",
       "      <td>15.324928</td>\n",
       "    </tr>\n",
       "    <tr>\n",
       "      <th>4</th>\n",
       "      <td>8.76</td>\n",
       "      <td>13.44</td>\n",
       "      <td>1.16</td>\n",
       "      <td>0.584</td>\n",
       "      <td>293</td>\n",
       "      <td>19.401997</td>\n",
       "    </tr>\n",
       "    <tr>\n",
       "      <th>...</th>\n",
       "      <td>...</td>\n",
       "      <td>...</td>\n",
       "      <td>...</td>\n",
       "      <td>...</td>\n",
       "      <td>...</td>\n",
       "      <td>...</td>\n",
       "    </tr>\n",
       "    <tr>\n",
       "      <th>3637</th>\n",
       "      <td>7.29</td>\n",
       "      <td>3.26</td>\n",
       "      <td>0.95</td>\n",
       "      <td>1.786</td>\n",
       "      <td>515</td>\n",
       "      <td>14.856089</td>\n",
       "    </tr>\n",
       "    <tr>\n",
       "      <th>3638</th>\n",
       "      <td>8.29</td>\n",
       "      <td>6.38</td>\n",
       "      <td>1.00</td>\n",
       "      <td>0.408</td>\n",
       "      <td>208</td>\n",
       "      <td>17.314104</td>\n",
       "    </tr>\n",
       "    <tr>\n",
       "      <th>3639</th>\n",
       "      <td>6.11</td>\n",
       "      <td>2.42</td>\n",
       "      <td>0.79</td>\n",
       "      <td>1.664</td>\n",
       "      <td>539</td>\n",
       "      <td>13.029078</td>\n",
       "    </tr>\n",
       "    <tr>\n",
       "      <th>3640</th>\n",
       "      <td>7.94</td>\n",
       "      <td>4.94</td>\n",
       "      <td>2.90</td>\n",
       "      <td>0.210</td>\n",
       "      <td>53</td>\n",
       "      <td>16.408636</td>\n",
       "    </tr>\n",
       "    <tr>\n",
       "      <th>3641</th>\n",
       "      <td>8.81</td>\n",
       "      <td>1.87</td>\n",
       "      <td>1.23</td>\n",
       "      <td>1.176</td>\n",
       "      <td>454</td>\n",
       "      <td>15.169209</td>\n",
       "    </tr>\n",
       "  </tbody>\n",
       "</table>\n",
       "<p>3642 rows × 6 columns</p>\n",
       "</div>"
      ],
      "text/plain": [
       "      Vmag    Plx  e_Plx    B-V  SpType       Amag\n",
       "0     5.99  13.73   0.58  1.318     522  16.678352\n",
       "1     8.70   2.31   1.29 -0.045      99  15.518060\n",
       "2     5.77   5.50   1.03  0.855     337  14.471813\n",
       "3     6.72   5.26   0.74 -0.015     150  15.324928\n",
       "4     8.76  13.44   1.16  0.584     293  19.401997\n",
       "...    ...    ...    ...    ...     ...        ...\n",
       "3637  7.29   3.26   0.95  1.786     515  14.856089\n",
       "3638  8.29   6.38   1.00  0.408     208  17.314104\n",
       "3639  6.11   2.42   0.79  1.664     539  13.029078\n",
       "3640  7.94   4.94   2.90  0.210      53  16.408636\n",
       "3641  8.81   1.87   1.23  1.176     454  15.169209\n",
       "\n",
       "[3642 rows x 6 columns]"
      ]
     },
     "execution_count": 9,
     "metadata": {},
     "output_type": "execute_result"
    }
   ],
   "source": [
    "X"
   ]
  },
  {
   "cell_type": "code",
   "execution_count": 152,
   "id": "9792a69a",
   "metadata": {
    "scrolled": true
   },
   "outputs": [],
   "source": [
    "df2=pd.read_csv(\"Star9999_raw.csv\") #Data que l'on veut traiter\n",
    "df2=df2.drop(\"Unnamed: 0\",axis=1) #On enlève la colonne d'index\n",
    "\n",
    "\n",
    "\n",
    "#On change les types des variables en float\n",
    "df3=df2[[\"Vmag\",\"Plx\",\"e_Plx\",\"B-V\"]].astype(\"float16\")\n",
    "df2[[\"Vmag\",\"Plx\",\"e_Plx\",\"B-V\"]]=df3[[\"Vmag\",\"Plx\",\"e_Plx\",\"B-V\"]]\n",
    "\n",
    "df2=df2.dropna(axis=0)\n"
   ]
  },
  {
   "cell_type": "code",
   "execution_count": 153,
   "id": "69e123e7",
   "metadata": {},
   "outputs": [
    {
     "data": {
      "text/html": [
       "<div>\n",
       "<style scoped>\n",
       "    .dataframe tbody tr th:only-of-type {\n",
       "        vertical-align: middle;\n",
       "    }\n",
       "\n",
       "    .dataframe tbody tr th {\n",
       "        vertical-align: top;\n",
       "    }\n",
       "\n",
       "    .dataframe thead th {\n",
       "        text-align: right;\n",
       "    }\n",
       "</style>\n",
       "<table border=\"1\" class=\"dataframe\">\n",
       "  <thead>\n",
       "    <tr style=\"text-align: right;\">\n",
       "      <th></th>\n",
       "      <th>Vmag</th>\n",
       "      <th>Plx</th>\n",
       "      <th>e_Plx</th>\n",
       "      <th>B-V</th>\n",
       "      <th>SpType</th>\n",
       "    </tr>\n",
       "  </thead>\n",
       "  <tbody>\n",
       "    <tr>\n",
       "      <th>0</th>\n",
       "      <td>9.101562</td>\n",
       "      <td>3.539062</td>\n",
       "      <td>1.389648</td>\n",
       "      <td>0.481934</td>\n",
       "      <td>366</td>\n",
       "    </tr>\n",
       "    <tr>\n",
       "      <th>1</th>\n",
       "      <td>9.273438</td>\n",
       "      <td>21.906250</td>\n",
       "      <td>3.099609</td>\n",
       "      <td>0.999023</td>\n",
       "      <td>727</td>\n",
       "    </tr>\n",
       "    <tr>\n",
       "      <th>2</th>\n",
       "      <td>6.609375</td>\n",
       "      <td>2.810547</td>\n",
       "      <td>0.629883</td>\n",
       "      <td>-0.018997</td>\n",
       "      <td>253</td>\n",
       "    </tr>\n",
       "    <tr>\n",
       "      <th>3</th>\n",
       "      <td>8.062500</td>\n",
       "      <td>7.750000</td>\n",
       "      <td>0.970215</td>\n",
       "      <td>0.370117</td>\n",
       "      <td>310</td>\n",
       "    </tr>\n",
       "    <tr>\n",
       "      <th>4</th>\n",
       "      <td>8.546875</td>\n",
       "      <td>2.869141</td>\n",
       "      <td>1.110352</td>\n",
       "      <td>0.901855</td>\n",
       "      <td>575</td>\n",
       "    </tr>\n",
       "    <tr>\n",
       "      <th>...</th>\n",
       "      <td>...</td>\n",
       "      <td>...</td>\n",
       "      <td>...</td>\n",
       "      <td>...</td>\n",
       "      <td>...</td>\n",
       "    </tr>\n",
       "    <tr>\n",
       "      <th>9674</th>\n",
       "      <td>8.453125</td>\n",
       "      <td>-0.930176</td>\n",
       "      <td>1.129883</td>\n",
       "      <td>1.404297</td>\n",
       "      <td>738</td>\n",
       "    </tr>\n",
       "    <tr>\n",
       "      <th>9675</th>\n",
       "      <td>7.839844</td>\n",
       "      <td>4.261719</td>\n",
       "      <td>1.000000</td>\n",
       "      <td>1.139648</td>\n",
       "      <td>674</td>\n",
       "    </tr>\n",
       "    <tr>\n",
       "      <th>9676</th>\n",
       "      <td>9.382812</td>\n",
       "      <td>3.609375</td>\n",
       "      <td>1.360352</td>\n",
       "      <td>0.506836</td>\n",
       "      <td>445</td>\n",
       "    </tr>\n",
       "    <tr>\n",
       "      <th>9677</th>\n",
       "      <td>7.640625</td>\n",
       "      <td>4.750000</td>\n",
       "      <td>0.970215</td>\n",
       "      <td>0.075012</td>\n",
       "      <td>39</td>\n",
       "    </tr>\n",
       "    <tr>\n",
       "      <th>9678</th>\n",
       "      <td>9.000000</td>\n",
       "      <td>10.609375</td>\n",
       "      <td>1.450195</td>\n",
       "      <td>0.565918</td>\n",
       "      <td>465</td>\n",
       "    </tr>\n",
       "  </tbody>\n",
       "</table>\n",
       "<p>9679 rows × 5 columns</p>\n",
       "</div>"
      ],
      "text/plain": [
       "          Vmag        Plx     e_Plx       B-V  SpType\n",
       "0     9.101562   3.539062  1.389648  0.481934     366\n",
       "1     9.273438  21.906250  3.099609  0.999023     727\n",
       "2     6.609375   2.810547  0.629883 -0.018997     253\n",
       "3     8.062500   7.750000  0.970215  0.370117     310\n",
       "4     8.546875   2.869141  1.110352  0.901855     575\n",
       "...        ...        ...       ...       ...     ...\n",
       "9674  8.453125  -0.930176  1.129883  1.404297     738\n",
       "9675  7.839844   4.261719  1.000000  1.139648     674\n",
       "9676  9.382812   3.609375  1.360352  0.506836     445\n",
       "9677  7.640625   4.750000  0.970215  0.075012      39\n",
       "9678  9.000000  10.609375  1.450195  0.565918     465\n",
       "\n",
       "[9679 rows x 5 columns]"
      ]
     },
     "execution_count": 153,
     "metadata": {},
     "output_type": "execute_result"
    }
   ],
   "source": [
    "df2"
   ]
  },
  {
   "cell_type": "code",
   "execution_count": 15,
   "id": "7ad5f2b4",
   "metadata": {},
   "outputs": [],
   "source": [
    "X_train,X_test,Y_train,Y_test=train_test_split(X,Y,test_size=0.2) #On crée notre datasets"
   ]
  },
  {
   "cell_type": "markdown",
   "id": "52b21ca6",
   "metadata": {},
   "source": [
    "# Essai pour un KNeighborsClassifier"
   ]
  },
  {
   "cell_type": "code",
   "execution_count": 154,
   "id": "9bccf88e",
   "metadata": {
    "scrolled": true
   },
   "outputs": [
    {
     "data": {
      "text/plain": [
       "0.9205479452054794"
      ]
     },
     "execution_count": 154,
     "metadata": {},
     "output_type": "execute_result"
    }
   ],
   "source": [
    "#On fait un test\n",
    "model=KNeighborsClassifier(n_neighbors=20) #on entraine un modèle de KNeighbirsClassifier avec 20 voisins\n",
    "model.fit(X_train,Y_train)\n",
    "model.score(X_test,Y_test) #On regarde son score"
   ]
  },
  {
   "cell_type": "code",
   "execution_count": 155,
   "id": "5c96ed3b",
   "metadata": {},
   "outputs": [
    {
     "name": "stderr",
     "output_type": "stream",
     "text": [
      "C:\\ProgramData\\Anaconda3\\lib\\site-packages\\sklearn\\utils\\validation.py:70: FutureWarning: Pass param_name=n_neighbors, param_range=[ 1  2  3  4  5  6  7  8  9 10 11 12 13 14 15 16 17 18 19 20 21 22 23 24\n",
      " 25 26 27 28 29 30 31 32 33 34 35 36 37 38 39 40 41 42 43 44 45 46 47 48\n",
      " 49] as keyword args. From version 1.0 (renaming of 0.25) passing these as positional arguments will result in an error\n",
      "  warnings.warn(f\"Pass {args_msg} as keyword args. From version \"\n"
     ]
    }
   ],
   "source": [
    "#On détermine quel nombre de voisins est optimal\n",
    "model1=KNeighborsClassifier()\n",
    "k=np.arange(1,50)\n",
    "train_score, val_score=validation_curve(model1,X,Y,'n_neighbors',k,cv=5)"
   ]
  },
  {
   "cell_type": "code",
   "execution_count": 156,
   "id": "2d5c4a0b",
   "metadata": {},
   "outputs": [
    {
     "data": {
      "text/plain": [
       "<matplotlib.legend.Legend at 0x1784eec85e0>"
      ]
     },
     "execution_count": 156,
     "metadata": {},
     "output_type": "execute_result"
    },
    {
     "data": {
      "image/png": "[encoded data removed]",
      "text/plain": [
       "<Figure size 432x288 with 1 Axes>"
      ]
     },
     "metadata": {
      "needs_background": "light"
     },
     "output_type": "display_data"
    }
   ],
   "source": [
    "plt.plot(k,val_score.mean(axis=1),label=\"validation\")\n",
    "plt.plot(k,train_score.mean(axis=1),label=\"training\")\n",
    "plt.legend()"
   ]
  },
  {
   "cell_type": "markdown",
   "id": "b0099cd9",
   "metadata": {},
   "source": [
    "On prend donc n_neightbors=10 pour ne pas overfitter ni unerfitter"
   ]
  },
  {
   "cell_type": "code",
   "execution_count": 159,
   "id": "ba25969f",
   "metadata": {
    "scrolled": true
   },
   "outputs": [
    {
     "data": {
      "text/plain": [
       "<matplotlib.legend.Legend at 0x1784eecf3a0>"
      ]
     },
     "execution_count": 159,
     "metadata": {},
     "output_type": "execute_result"
    },
    {
     "data": {
      "image/png": "[encoded data removed]",
      "text/plain": [
       "<Figure size 432x288 with 1 Axes>"
      ]
     },
     "metadata": {
      "needs_background": "light"
     },
     "output_type": "display_data"
    }
   ],
   "source": [
    "N,train_score,val_score=learning_curve(model,X,Y,train_sizes=np.linspace(0.1,1,10),cv=20)\n",
    "plt.plot(N/len(X),train_score.mean(axis=1),label=\"training\")\n",
    "plt.plot(N/len(X),val_score.mean(axis=1),label=\"validation\")\n",
    "plt.legend()"
   ]
  },
  {
   "cell_type": "markdown",
   "id": "5a1b7b9a",
   "metadata": {},
   "source": [
    "On voit qu'on pourrait avoir de meilleurs résultats si nous avions plus de données d'entrainements, on va donc prendre un test size égal à 0.1 pour ne pas overfitter sur le trainset"
   ]
  },
  {
   "cell_type": "code",
   "execution_count": 167,
   "id": "74860048",
   "metadata": {},
   "outputs": [],
   "source": [
    "model=KNeighborsClassifier(n_neighbors=10) #on entraine un modèle de KNeighbirsClassifier avec 20 voisins\n",
    "X_train,X_test,Y_train,Y_test=train_test_split(X,Y,test_size=0.1)\n",
    "model.fit(X_train,Y_train)\n",
    "KNN_score=model.score(X_test,Y_test)"
   ]
  },
  {
   "cell_type": "markdown",
   "id": "25a40a59",
   "metadata": {
    "scrolled": true
   },
   "source": [
    "# Essai pour une régression Logistique"
   ]
  },
  {
   "cell_type": "code",
   "execution_count": 163,
   "id": "739b796e",
   "metadata": {},
   "outputs": [],
   "source": [
    "LR_model = LogisticRegression(max_iter=1000) #on itère 150 fois et non pas 100 car 100 itérations ne permettent pas d'atteindre le minimum de la fonction de cout\n",
    "LR_model.fit(X_train, Y_train)\n",
    "LR_score=LR_model.score(X_test,Y_test)"
   ]
  },
  {
   "cell_type": "code",
   "execution_count": 72,
   "id": "e726d599",
   "metadata": {
    "scrolled": true
   },
   "outputs": [
    {
     "data": {
      "text/plain": [
       "<matplotlib.legend.Legend at 0x17852d0c970>"
      ]
     },
     "execution_count": 72,
     "metadata": {},
     "output_type": "execute_result"
    },
    {
     "data": {
      "image/png": "[encoded data removed]",
      "text/plain": [
       "<Figure size 432x288 with 1 Axes>"
      ]
     },
     "metadata": {
      "needs_background": "light"
     },
     "output_type": "display_data"
    }
   ],
   "source": [
    "N,train_score,val_score=learning_curve(LR_model,X,Y,train_sizes=np.linspace(0.1,1,10),cv=20)\n",
    "plt.plot(N/len(X),train_score.mean(axis=1),label=\"training\")\n",
    "plt.plot(N/len(X),val_score.mean(axis=1),label=\"validation\")\n",
    "plt.legend()"
   ]
  },
  {
   "cell_type": "markdown",
   "id": "97ebd970",
   "metadata": {},
   "source": [
    "On voit que si nous avions plus de données,nous pourrions avoir de meilleurs résultats"
   ]
  },
  {
   "cell_type": "markdown",
   "id": "16a2da7b",
   "metadata": {},
   "source": [
    "# Essai de SVC"
   ]
  },
  {
   "cell_type": "code",
   "execution_count": 164,
   "id": "6042bd3b",
   "metadata": {},
   "outputs": [],
   "source": [
    "clf = svm.SVC()\n",
    "clf.fit(X_train,Y_train)\n",
    "svc_score=clf.score(X_test,Y_test)"
   ]
  },
  {
   "cell_type": "code",
   "execution_count": 74,
   "id": "e7cd22d0",
   "metadata": {
    "scrolled": true
   },
   "outputs": [
    {
     "data": {
      "text/plain": [
       "<matplotlib.legend.Legend at 0x178519c6490>"
      ]
     },
     "execution_count": 74,
     "metadata": {},
     "output_type": "execute_result"
    },
    {
     "data": {
      "image/png": "[encoded data removed]",
      "text/plain": [
       "<Figure size 432x288 with 1 Axes>"
      ]
     },
     "metadata": {
      "needs_background": "light"
     },
     "output_type": "display_data"
    }
   ],
   "source": [
    "N,train_score,val_score=learning_curve(clf,X,Y,train_sizes=np.linspace(0.1,1,10),cv=20)\n",
    "plt.plot(N/len(X),train_score.mean(axis=1),label=\"training\")\n",
    "plt.plot(N/len(X),val_score.mean(axis=1),label=\"validation\")\n",
    "plt.legend()"
   ]
  },
  {
   "cell_type": "markdown",
   "id": "a8d9e53b",
   "metadata": {},
   "source": [
    "# Random Forest"
   ]
  },
  {
   "cell_type": "code",
   "execution_count": 165,
   "id": "3bb3ea08",
   "metadata": {},
   "outputs": [],
   "source": [
    "rf = RandomForestClassifier(n_estimators=10)\n",
    "rf.fit(X_train, Y_train)\n",
    "rf_score=rf.score(X_test,Y_test)"
   ]
  },
  {
   "cell_type": "code",
   "execution_count": 151,
   "id": "a9df422c",
   "metadata": {
    "scrolled": false
   },
   "outputs": [
    {
     "name": "stderr",
     "output_type": "stream",
     "text": [
      "C:\\ProgramData\\Anaconda3\\lib\\site-packages\\sklearn\\utils\\validation.py:70: FutureWarning: Pass param_name=n_estimators, param_range=[ 1  2  3  4  5  6  7  8  9 10 11 12 13 14 15 16 17 18 19 20 21 22 23 24\n",
      " 25 26 27 28 29] as keyword args. From version 1.0 (renaming of 0.25) passing these as positional arguments will result in an error\n",
      "  warnings.warn(f\"Pass {args_msg} as keyword args. From version \"\n"
     ]
    },
    {
     "data": {
      "text/plain": [
       "<matplotlib.legend.Legend at 0x1784e0e7a60>"
      ]
     },
     "execution_count": 151,
     "metadata": {},
     "output_type": "execute_result"
    },
    {
     "data": {
      "image/png": "[encoded data removed]",
      "text/plain": [
       "<Figure size 432x288 with 1 Axes>"
      ]
     },
     "metadata": {
      "needs_background": "light"
     },
     "output_type": "display_data"
    }
   ],
   "source": [
    "k=np.arange(1,30)\n",
    "train_score, val_score=validation_curve(rf,X,Y,'n_estimators',k,cv=5)\n",
    "plt.plot(k,val_score.mean(axis=1),label=\"validation\")\n",
    "plt.plot(k,train_score.mean(axis=1),label=\"training\")\n",
    "plt.legend()"
   ]
  },
  {
   "cell_type": "markdown",
   "id": "35f350a7",
   "metadata": {},
   "source": [
    "On prend donc 20 estimateurs pour avoir une meilleure prédiction"
   ]
  },
  {
   "cell_type": "code",
   "execution_count": 166,
   "id": "532aff8c",
   "metadata": {},
   "outputs": [],
   "source": [
    "rf = RandomForestClassifier(n_estimators=20)\n",
    "rf.fit(X_train, Y_train)\n",
    "rf_score=rf.score(X_test,Y_test)"
   ]
  },
  {
   "cell_type": "code",
   "execution_count": 171,
   "id": "99f2a0c8",
   "metadata": {
    "scrolled": true
   },
   "outputs": [
    {
     "data": {
      "image/png": "[encoded data removed]",
      "text/plain": [
       "<Figure size 432x288 with 1 Axes>"
      ]
     },
     "metadata": {
      "needs_background": "light"
     },
     "output_type": "display_data"
    }
   ],
   "source": [
    "plt.bar([\"RF\",\"KNN\",\"LR\",\"SVC\"],[rf_score,KNN_score,LR_score,svc_score])\n",
    "plt.ylabel(\"Score\")\n",
    "plt.title(\"Tableau des scores\")\n",
    "plt.show()"
   ]
  },
  {
   "cell_type": "markdown",
   "id": "2da9c677",
   "metadata": {},
   "source": [
    "On utilse le modle de KNN car il est plus précis"
   ]
  },
  {
   "cell_type": "markdown",
   "id": "d985ed06",
   "metadata": {},
   "source": [
    "# Prédiction "
   ]
  },
  {
   "cell_type": "code",
   "execution_count": 172,
   "id": "4a5e3b32",
   "metadata": {
    "scrolled": true
   },
   "outputs": [],
   "source": [
    "df2[\"TargetClass\"]=model.predict(df2)"
   ]
  },
  {
   "cell_type": "code",
   "execution_count": 173,
   "id": "54d0e290",
   "metadata": {},
   "outputs": [],
   "source": [
    "df2.to_csv(\"Starfinie_raw.csv\")"
   ]
  },
  {
   "cell_type": "code",
   "execution_count": null,
   "id": "97e2f621",
   "metadata": {},
   "outputs": [],
   "source": []
  },
  {
   "cell_type": "code",
   "execution_count": null,
   "id": "cbc04f76",
   "metadata": {},
   "outputs": [],
   "source": []
  }
 ],
 "metadata": {
  "kernelspec": {
   "display_name": "Python 3",
   "language": "python",
   "name": "python3"
  },
  "language_info": {
   "codemirror_mode": {
    "name": "ipython",
    "version": 3
   },
   "file_extension": ".py",
   "mimetype": "text/x-python",
   "name": "python",
   "nbconvert_exporter": "python",
   "pygments_lexer": "ipython3",
   "version": "3.8.8"
  }
 },
 "nbformat": 4,
 "nbformat_minor": 5
}
